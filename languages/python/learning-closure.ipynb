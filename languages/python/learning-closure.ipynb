{
 "cells": [
  {
   "cell_type": "code",
   "execution_count": 138,
   "id": "dc011fde-1039-412d-b0fd-869074d04f97",
   "metadata": {},
   "outputs": [
    {
     "name": "stdout",
     "output_type": "stream",
     "text": [
      "5\n"
     ]
    }
   ],
   "source": [
    "# Closure example 01\n",
    "def foo():\n",
    "    a = 5\n",
    "    def bar():\n",
    "        print(a)\n",
    "    return bar\n",
    "\n",
    "func = foo()\n",
    "func()"
   ]
  },
  {
   "cell_type": "code",
   "execution_count": null,
   "id": "68b449a7-581b-43ef-9112-658c90d9526a",
   "metadata": {},
   "outputs": [],
   "source": [
    "# Closure example 02\n",
    "x = 25\n",
    "def foo():\n",
    "    def bar():\n",
    "        print(x)\n",
    "    return bar\n",
    "\n",
    "# del(x) --> It deletes the x variable and the function call func() = bar() can't find x anymore.\n",
    "func = foo()\n",
    "del(x)\n",
    "func()\n",
    "\n",
    "'''\n",
    "NameError                                 Traceback (most recent call last)\n",
    "Cell In[18], line 12\n",
    "     10 func = foo()\n",
    "     11 del(x)\n",
    "---> 12 func()\n",
    "\n",
    "Cell In[18], line 5, in foo.<locals>.bar()\n",
    "      4 def bar():\n",
    "----> 5     print(x)\n",
    "\n",
    "NameError: name 'x' is not defined\n",
    "'''"
   ]
  },
  {
   "cell_type": "code",
   "execution_count": 139,
   "id": "b778e286-0ace-4308-aa75-85a56abad8d8",
   "metadata": {},
   "outputs": [
    {
     "name": "stdout",
     "output_type": "stream",
     "text": [
      "25\n"
     ]
    }
   ],
   "source": [
    "# Closure example 03\n",
    "x = 25\n",
    "def foo(value):\n",
    "    def bar():\n",
    "        print(value)\n",
    "    return bar\n",
    "\n",
    "func = foo(x)\n",
    "del(x)\n",
    "func()"
   ]
  },
  {
   "cell_type": "code",
   "execution_count": 140,
   "id": "4b64ff40-5b66-4156-a7e5-ef2d99d0fc90",
   "metadata": {},
   "outputs": [
    {
     "name": "stdout",
     "output_type": "stream",
     "text": [
      "105\n"
     ]
    }
   ],
   "source": [
    "# Closure example 04\n",
    "x = 105\n",
    "def foo(value):\n",
    "    def bar():\n",
    "        print(value)\n",
    "    return bar\n",
    "x = foo(x)\n",
    "x()"
   ]
  },
  {
   "cell_type": "code",
   "execution_count": 141,
   "id": "81f27f88-abbf-4ce7-b469-f8667e33e1fa",
   "metadata": {},
   "outputs": [
    {
     "name": "stdout",
     "output_type": "stream",
     "text": [
      "10 100\n",
      "44\n",
      "{'a': 'Chocolate', 'b': 50}\n",
      "[10, 100, {'a': 'Chocolate', 'b': 50}, 44]\n"
     ]
    }
   ],
   "source": [
    "# Closure example 05\n",
    "def parent(arg1, arg2):\n",
    "    value = 44\n",
    "    my_dict = {'a':'Chocolate', 'b': 50}\n",
    "    def child():\n",
    "        print(arg1, arg2)\n",
    "        print(value)\n",
    "        print(my_dict)\n",
    "    \n",
    "    return child\n",
    "\n",
    "func = parent(10, 100)\n",
    "func()\n",
    "print([cell.cell_contents for cell in func.__closure__])"
   ]
  },
  {
   "cell_type": "code",
   "execution_count": 143,
   "id": "cd102d35-b492-4e0d-8984-02cf5ff1818e",
   "metadata": {},
   "outputs": [
    {
     "name": "stdout",
     "output_type": "stream",
     "text": [
      "(<cell at 0x107c6feb0: int object at 0x105ef5710>, <cell at 0x107c6f790: int object at 0x105ef6250>, <cell at 0x107c6e9e0: dict object at 0x311fd21c0>, <cell at 0x3120d3940: int object at 0x105ef5b50>)\n",
      "<class 'tuple'>\n",
      "4\n",
      "<class 'cell'>\n"
     ]
    }
   ],
   "source": [
    "print(func.__closure__)\n",
    "print(type(func.__closure__))\n",
    "print(len(func.__closure__))\n",
    "print(type(func.__closure__[0]))"
   ]
  },
  {
   "cell_type": "code",
   "execution_count": 150,
   "id": "dbe74b1c-29ed-45b8-ba18-42ab1a4d9723",
   "metadata": {},
   "outputs": [
    {
     "name": "stdout",
     "output_type": "stream",
     "text": [
      "40\n",
      "testing ... 42\n",
      "(3, 6)\n",
      "multiply is called with arguments: (3, 6)\n",
      "testing ... None\n",
      "wrapper\n",
      "None\n"
     ]
    }
   ],
   "source": [
    "# Decorator example 01\n",
    "\n",
    "def multiply(a, b):\n",
    "    return a * b\n",
    "\n",
    "def double_args(func):\n",
    "    def wrapper(a, b):\n",
    "        return func(a * 2, b * 2)\n",
    "    return wrapper\n",
    "\n",
    "\n",
    "new_multiply = double_args(multiply)\n",
    "print(new_multiply(2, 5))\n",
    "\n",
    "@double_args\n",
    "def a_multiply(a, b):\n",
    "    return a * b + 2\n",
    "\n",
    "def print_args(func):\n",
    "    def wrapper(*args):\n",
    "        print(args)\n",
    "        print(f'{func.__name__} is called with arguments: {args}')\n",
    "        # return func(*args)\n",
    "    return wrapper\n",
    "\n",
    "print('testing ... {}'.format(a_multiply(2, 5)))\n",
    "\n",
    "b_multiply = print_args(multiply)\n",
    "print('testing ... {}'.format(b_multiply(3, 6)))\n",
    "\n",
    "# print(dir(a_multiply))\n",
    "\n",
    "print(a_multiply.__name__)\n",
    "print(a_multiply.__doc__)"
   ]
  },
  {
   "cell_type": "code",
   "execution_count": 151,
   "id": "2167770f-6829-432a-bce6-6474c73692a0",
   "metadata": {},
   "outputs": [
    {
     "name": "stdout",
     "output_type": "stream",
     "text": [
      "multiply is called with arguments: a=3, b=6\n",
      "testing ... 18\n"
     ]
    }
   ],
   "source": [
    "import inspect\n",
    "\n",
    "def multiply(a, b):\n",
    "    return a * b\n",
    "\n",
    "def print_args(func):\n",
    "    def wrapper(*args):\n",
    "        signature = inspect.signature(func)\n",
    "        parameters = signature.parameters\n",
    "        #print(parameters)\n",
    "        params_string = ', '.join([f'{name}={value}' for name, value in zip(parameters.keys(), args)])\n",
    "        print(f'{func.__name__} is called with arguments: ' + params_string)\n",
    "        return func(*args)\n",
    "    return wrapper\n",
    "\n",
    "multiply = print_args(multiply)\n",
    "print('testing ... {}'.format(multiply(3, 6)))"
   ]
  },
  {
   "cell_type": "code",
   "execution_count": 152,
   "id": "ffe44d39-e56d-4f9b-ba1c-c6e8a5a4ca77",
   "metadata": {},
   "outputs": [
    {
     "name": "stdout",
     "output_type": "stream",
     "text": [
      "(param1, param2, param3='default')\n",
      "OrderedDict({'param1': <Parameter \"param1\">, 'param2': <Parameter \"param2\">, 'param3': <Parameter \"param3='default'\">})\n",
      "[\"param1=<class 'inspect._empty'>\", \"param2=<class 'inspect._empty'>\", 'param3=default']\n"
     ]
    }
   ],
   "source": [
    "import inspect\n",
    "\n",
    "def my_function(param1, param2, param3=\"default\"):\n",
    "    pass\n",
    "\n",
    "signature = inspect.signature(my_function)\n",
    "print(signature)\n",
    "parameters = signature.parameters\n",
    "print(parameters)\n",
    "\n",
    "a = [f'{name}={param.default}' for name, param in parameters.items()]\n",
    "print(a)"
   ]
  },
  {
   "cell_type": "code",
   "execution_count": 153,
   "id": "862dc9f9-cc99-4d9f-8b53-6aa5e37df809",
   "metadata": {},
   "outputs": [
    {
     "name": "stdout",
     "output_type": "stream",
     "text": [
      "351\n",
      "run: 0.13143181800842285\n",
      "calculate is called 317211 times\n"
     ]
    }
   ],
   "source": [
    "import time\n",
    "\n",
    "def timer(func):\n",
    "    def wrapper(*args, **kwargs):\n",
    "        start_time = time.time()\n",
    "        result = func(*args, **kwargs)\n",
    "        end_time = time.time()\n",
    "        print(f'{func.__name__}: {end_time - start_time}')\n",
    "        return result\n",
    "    return wrapper\n",
    "              \n",
    "def memoize(func):\n",
    "    cache = {}\n",
    "    def wrapper(n):\n",
    "        if n not in cache:\n",
    "            cache[n] = func(n)\n",
    "        return cache[n]\n",
    "    return wrapper\n",
    "\n",
    "\n",
    "def general_memoize(func):\n",
    "    cache = {}\n",
    "    def wrapper(*args, **kwargs):\n",
    "        kwargs_key = tuple(sorted(kwargs.items()))\n",
    "        if (args, kwargs_key) not in cache:\n",
    "            cache[(args, kwargs_key)] = func(*args, **kwargs)\n",
    "        return cache[(args, kwargs_key)]\n",
    "    return wrapper\n",
    "\n",
    "\n",
    "def counter(func):\n",
    "    def wrapper(*args, **kwargs):\n",
    "        wrapper.count += 1\n",
    "        # Call the function being decorated and return the result\n",
    "        return func(*args, **kwargs)\n",
    "    # Set count to 0 to initialize call count for each new decorated function\n",
    "    wrapper.count = 0\n",
    "    # Return the new decorated function\n",
    "    return wrapper\n",
    "    \n",
    "@counter\n",
    "@memoize\n",
    "def calculate(n):\n",
    "    if n == 1:\n",
    "        return 1\n",
    "    elif n % 2 == 1:\n",
    "        return calculate(3 * n + 1) + 1\n",
    "    else:\n",
    "        return calculate(n // 2) + 1\n",
    "\n",
    "@timer\n",
    "def run():\n",
    "    result = [calculate(i) for i in range(1, 100001)]\n",
    "    print(max(result))\n",
    "\n",
    "run()\n",
    "\n",
    "print('calculate is called {} times'.format(calculate.count))\n",
    "\n",
    "\n",
    "# @general_memoize\n",
    "# def slow_function(a, b):\n",
    "#     print('Sleeping ...')\n",
    "#     time.sleep(5)\n",
    "#     return a + b\n",
    "\n",
    "# print(slow_function(1, 2))\n",
    "# print(slow_function(1, 2))\n"
   ]
  },
  {
   "cell_type": "code",
   "execution_count": 157,
   "id": "df23d651-2585-4f32-b175-7392a39db91a",
   "metadata": {},
   "outputs": [
    {
     "name": "stdout",
     "output_type": "stream",
     "text": [
      "1\n",
      "2\n",
      "8\n",
      "3\n",
      "4\n"
     ]
    }
   ],
   "source": [
    "\n",
    "print(calculate(1))\n",
    "print(calculate(2))\n",
    "print(calculate(3))\n",
    "print(calculate(4))\n",
    "print(calculate(8))\n"
   ]
  },
  {
   "cell_type": "markdown",
   "id": "d7e24118-c1fe-45bb-b434-f8524245794b",
   "metadata": {},
   "source": [
    "# Witout memoize function\n",
    "351\n",
    "run: 3.2158761024475098\n",
    "calculate is called 10853840 times\n",
    "\n",
    "\n",
    "# With memoize function\n",
    "351\n",
    "run: 0.13365602493286133\n",
    "calculate is called 317211 times\n",
    "\n"
   ]
  },
  {
   "cell_type": "code",
   "execution_count": null,
   "id": "7e6a7dc8-bf01-4765-8ca4-c4e339cc69f3",
   "metadata": {},
   "outputs": [],
   "source": [
    "# Return return type\n",
    "def print_return_type(func):\n",
    "  # Define wrapper(), the decorated function\n",
    "  def wrapper(*args, **kwargs):\n",
    "    # Call the function being decorated\n",
    "    result = func(*args, **kwargs)\n",
    "    print('{}() returned type {}'.format(\n",
    "      func.__name__, type(result)\n",
    "    ))\n",
    "    return result\n",
    "  # Return the decorated function\n",
    "  return wrapper\n",
    "  \n",
    "@print_return_type\n",
    "def foo(value):\n",
    "  return value\n",
    "  \n",
    "print(foo(42))\n",
    "print(foo([1, 2, 3]))\n",
    "print(foo({'a': 42}))"
   ]
  },
  {
   "cell_type": "code",
   "execution_count": null,
   "id": "6f441dc2-bc6d-495b-9308-b4569cf5554b",
   "metadata": {},
   "outputs": [],
   "source": [
    "# Counting function calls\n",
    "from functools import wraps\n",
    "\n",
    "def counter(func):\n",
    "    @wraps(func)\n",
    "    def wrapper(*args, **kwargs):\n",
    "        wrapper.count += 1\n",
    "        # Call the function being decorated and return the result\n",
    "        return func(*args, **kwargs)\n",
    "    \n",
    "    # Set count to 0 to initialize call count for each new decorated function\n",
    "    wrapper.count = 0\n",
    "    # Return the new decorated function\n",
    "    return wrapper\n",
    "\n",
    "# Decorate foo() with the counter() decorator\n",
    "@counter\n",
    "def foo():\n",
    "    ''' a foo function. '''\n",
    "    print('calling foo()')\n",
    "  \n",
    "foo()\n",
    "foo()\n",
    "\n",
    "print('foo() was called {} times.'.format(foo.count))"
   ]
  },
  {
   "cell_type": "code",
   "execution_count": null,
   "id": "d08c196b-b92d-442b-a078-1ed557c04284",
   "metadata": {},
   "outputs": [],
   "source": [
    "foo()\n",
    "print('foo() was called {} times.'.format(foo.count))"
   ]
  },
  {
   "cell_type": "code",
   "execution_count": null,
   "id": "5d160671-a2ef-4d7b-8168-d77a9869a88b",
   "metadata": {},
   "outputs": [],
   "source": [
    "foo.__doc__"
   ]
  },
  {
   "cell_type": "code",
   "execution_count": null,
   "id": "654c240a-2ffb-4e82-a015-98146b3470fe",
   "metadata": {},
   "outputs": [],
   "source": [
    "foo.__wrapped__()"
   ]
  },
  {
   "cell_type": "code",
   "execution_count": null,
   "id": "4fce4234-0824-4164-80ea-7b1391d27b33",
   "metadata": {},
   "outputs": [],
   "source": [
    "foo()\n",
    "print('foo() was called {} times.'.format(foo.count))"
   ]
  },
  {
   "cell_type": "markdown",
   "id": "6b889baa-bf9c-46cb-8bca-eb9b10625b5f",
   "metadata": {},
   "source": [
    "# Decorator Factory. Function that returns the decorator."
   ]
  },
  {
   "cell_type": "code",
   "execution_count": null,
   "id": "dd71002a-5509-4f4a-b290-9ffcffd3bcd1",
   "metadata": {},
   "outputs": [],
   "source": [
    "def run_n_times(n):\n",
    "    def decorator(func):\n",
    "        def wrapper(*args, **kwargs):\n",
    "            for i in range(1, n+1):\n",
    "                print(f'{i}', end=' ')\n",
    "                func(*args, **kwargs)\n",
    "        return wrapper\n",
    "    return decorator\n",
    "\n",
    "@run_n_times(3)\n",
    "def print_sum(a, b):\n",
    "    print(a + b)\n",
    "\n",
    "print_sum(10, 100)\n",
    "\n",
    "@run_n_times(6)\n",
    "def print_hello():\n",
    "    print('hello')\n",
    "\n",
    "print_hello()"
   ]
  },
  {
   "cell_type": "code",
   "execution_count": 122,
   "id": "80e624d5-362c-43d0-9ac1-dce22465a471",
   "metadata": {},
   "outputs": [
    {
     "name": "stdout",
     "output_type": "stream",
     "text": [
      "<b>Hello Alice!</b>\n",
      "<i>Goodbye Alice</i>\n",
      "<div>\n",
      "<b>Hello Alice!</b>\n",
      "<i>Goodbye Alice</i>\n",
      "</div>\n"
     ]
    }
   ],
   "source": [
    "def html(open_tag, close_tag):\n",
    "    def decorator(func):\n",
    "        @wraps(func)\n",
    "        def wrapper(*args, **kwargs):\n",
    "          msg = func(*args, **kwargs)\n",
    "          return '{}{}{}'.format(open_tag, msg, close_tag)\n",
    "        # Return the decorated function\n",
    "        return wrapper\n",
    "    # Return the decorator\n",
    "    return decorator\n",
    "\n",
    "# Make hello() return bolded text\n",
    "@html('<b>', '</b>')\n",
    "def hello(name):\n",
    "  return 'Hello {}!'.format(name)\n",
    "  \n",
    "print(hello('Alice'))\n",
    "\n",
    "@html('<i>', '</i>')\n",
    "def goodbye(name):\n",
    "    return 'Goodbye {}'.format(name)\n",
    "\n",
    "print(goodbye('Alice'))\n",
    "\n",
    "# Wrap the result of hello_goodbye() in <div> and </div>\n",
    "@html('<div>', '</div>')\n",
    "def hello_goodbye(name):\n",
    "  return '\\n{}\\n{}\\n'.format(hello(name), goodbye(name))\n",
    "  \n",
    "print(hello_goodbye('Alice'))"
   ]
  },
  {
   "cell_type": "markdown",
   "id": "2b01067d-bd17-428e-b57f-c3f5034e72b2",
   "metadata": {},
   "source": [
    "# Timeout"
   ]
  },
  {
   "cell_type": "code",
   "execution_count": null,
   "id": "ce554c06-1a27-4e71-8351-b0489b2219ae",
   "metadata": {},
   "outputs": [],
   "source": [
    "import time\n",
    "import signal\n",
    "import functools\n",
    "\n",
    "def raise_timeout(*args, **kwargs):\n",
    "    raise TimeoutError()\n",
    "\n",
    "signal.signal(signalnum=signal.SIGALRM, handler=raise_timeout)\n",
    "signal.alarm(5)\n",
    "\n",
    "def timeout_in_5s(func):\n",
    "    @functools.wraps(func)\n",
    "    def wrapper(*args, **kwargs):\n",
    "        signal.alarm(5)\n",
    "        try:\n",
    "            return func(*args, **kwargs)\n",
    "        finally:\n",
    "            signal.alarm(0)\n",
    "    return wrapper\n",
    "\n",
    "@timeout_in_5s\n",
    "def foo():\n",
    "    time.sleep(5)\n",
    "    print('foo')\n",
    "\n"
   ]
  },
  {
   "cell_type": "code",
   "execution_count": 127,
   "id": "6dd8dadb-2972-411a-aa54-abf6a4ed2435",
   "metadata": {},
   "outputs": [
    {
     "name": "stdout",
     "output_type": "stream",
     "text": [
      "foo\n"
     ]
    }
   ],
   "source": [
    "import time\n",
    "import functools\n",
    "import signal\n",
    "\n",
    "def raise_timeout(*args, **kwargs):\n",
    "    raise TimeoutError()\n",
    "\n",
    "signal.signal(signalnum=signal.SIGALRM, handler=raise_timeout)\n",
    "\n",
    "def timeout(n_seconds):\n",
    "    def decorator(func):\n",
    "        @functools.wraps(func)\n",
    "        def wrapper(*args, **kwargs):\n",
    "            signal.alarm(n_seconds)\n",
    "            try:\n",
    "                return func(*args, **kwargs)\n",
    "            finally:\n",
    "                signal.alarm(0)\n",
    "        return wrapper\n",
    "    return decorator\n",
    "\n",
    "@timeout(5)\n",
    "def foo():\n",
    "    time.sleep(1)\n",
    "    print('foo')\n",
    "\n",
    "foo()"
   ]
  },
  {
   "cell_type": "code",
   "execution_count": 128,
   "id": "6768b662-be82-433c-829a-f791afa45bdb",
   "metadata": {},
   "outputs": [
    {
     "name": "stdout",
     "output_type": "stream",
     "text": [
      "('test', 'this is a tag')\n"
     ]
    }
   ],
   "source": [
    "# tagging a function\n",
    "def tag(*tags):\n",
    "    # Define a new decorator, named \"decorator\", to return\n",
    "    def decorator(func):\n",
    "        # Ensure the decorated function keeps its metadata\n",
    "        @wraps(func)\n",
    "        def wrapper(*args, **kwargs):\n",
    "            # Call the function being decorated and return the result\n",
    "            return func(*args, **kwargs)\n",
    "        wrapper.tags = tags\n",
    "        return wrapper\n",
    "    # Return the new decorator\n",
    "    return decorator\n",
    "\n",
    "@tag('test', 'this is a tag')\n",
    "def foo():\n",
    "    pass\n",
    "\n",
    "print(foo.tags)"
   ]
  },
  {
   "cell_type": "code",
   "execution_count": 137,
   "id": "4499e67a-00dd-45e6-b728-e50c4451be2f",
   "metadata": {},
   "outputs": [
    {
     "name": "stdout",
     "output_type": "stream",
     "text": [
      "foo() did not return a dict!\n"
     ]
    }
   ],
   "source": [
    "# Test if the function is returning the correct data type\n",
    "\n",
    "def returns(return_type):\n",
    "  # Complete the returns() decorator\n",
    "  def decorator(func):\n",
    "    def wrapper(*args, **kwargs):\n",
    "      result = func(*args, **kwargs)\n",
    "      assert type(result) == return_type\n",
    "      return result\n",
    "    return wrapper\n",
    "  return decorator\n",
    "  \n",
    "@returns(dict)\n",
    "def foo(value):\n",
    "  return value\n",
    "\n",
    "try:\n",
    "  print(foo([1,2,3]))\n",
    "except AssertionError:\n",
    "  print('foo() did not return a dict!')\n",
    "  "
   ]
  },
  {
   "cell_type": "code",
   "execution_count": 129,
   "id": "f39b71d9-b55a-4451-bae5-697e7ecedf8a",
   "metadata": {},
   "outputs": [
    {
     "data": {
      "text/plain": [
       "dict"
      ]
     },
     "execution_count": 129,
     "metadata": {},
     "output_type": "execute_result"
    }
   ],
   "source": [
    "a = {1: 10, 2: 20}\n",
    "type(a)"
   ]
  },
  {
   "cell_type": "code",
   "execution_count": 136,
   "id": "141a8ad8-eb57-42d1-a526-807b8f64c33c",
   "metadata": {},
   "outputs": [
    {
     "name": "stdout",
     "output_type": "stream",
     "text": [
      "<class 'list'>\n",
      "1 10 2 20\n"
     ]
    }
   ],
   "source": [
    "a = [1, 10, 2, 20]\n",
    "print(type(a))\n",
    "print(*a)"
   ]
  },
  {
   "cell_type": "code",
   "execution_count": 131,
   "id": "2a9a914c-c123-4e7d-897e-cda537b3d86f",
   "metadata": {},
   "outputs": [
    {
     "data": {
      "text/plain": [
       "True"
      ]
     },
     "execution_count": 131,
     "metadata": {},
     "output_type": "execute_result"
    }
   ],
   "source": [
    "type(a) == list"
   ]
  },
  {
   "cell_type": "code",
   "execution_count": 133,
   "id": "e09550dd-7418-46b3-aba9-0ef93bb2555a",
   "metadata": {},
   "outputs": [],
   "source": [
    "a = (1, 10, 2, 20)"
   ]
  },
  {
   "cell_type": "code",
   "execution_count": 135,
   "id": "739cb163-c058-449d-8287-2f043982a49d",
   "metadata": {},
   "outputs": [
    {
     "name": "stdout",
     "output_type": "stream",
     "text": [
      "1 10 2 20\n"
     ]
    }
   ],
   "source": [
    "print(*a)"
   ]
  },
  {
   "cell_type": "code",
   "execution_count": null,
   "id": "1b400aa1-fa1d-4a9a-9bbb-434e46e47345",
   "metadata": {},
   "outputs": [],
   "source": []
  }
 ],
 "metadata": {
  "kernelspec": {
   "display_name": "Python 3 (ipykernel)",
   "language": "python",
   "name": "python3"
  },
  "language_info": {
   "codemirror_mode": {
    "name": "ipython",
    "version": 3
   },
   "file_extension": ".py",
   "mimetype": "text/x-python",
   "name": "python",
   "nbconvert_exporter": "python",
   "pygments_lexer": "ipython3",
   "version": "3.12.1"
  }
 },
 "nbformat": 4,
 "nbformat_minor": 5
}
