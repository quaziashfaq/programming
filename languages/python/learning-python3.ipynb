{
 "cells": [
  {
   "cell_type": "code",
   "execution_count": 3,
   "id": "3c5f63d0-168c-4469-a27e-1190a8570e2e",
   "metadata": {},
   "outputs": [],
   "source": [
    "from dataclasses import dataclass, asdict, astuple\n",
    "from decimal import Decimal"
   ]
  },
  {
   "cell_type": "code",
   "execution_count": 17,
   "id": "4e9e01f7-6c4c-4c59-ad9e-3992c2254aca",
   "metadata": {},
   "outputs": [],
   "source": [
    "@dataclass\n",
    "class Cookie:\n",
    "    name: str\n",
    "    cost: Decimal\n",
    "    quantity: int = 0\n",
    "\n",
    "    @property\n",
    "    def value_of_goods(self):\n",
    "        return int(self.quantity) * self.cost"
   ]
  },
  {
   "cell_type": "code",
   "execution_count": 18,
   "id": "69e66d42-be64-4f77-a5c4-c0d6d06468e1",
   "metadata": {},
   "outputs": [],
   "source": [
    "chocolate_chip = Cookie('Chocolate Chip', Decimal(\"1.2\"), 8)"
   ]
  },
  {
   "cell_type": "code",
   "execution_count": 19,
   "id": "92760c2f-e20f-4c4a-8cb0-bd7955beba3d",
   "metadata": {},
   "outputs": [
    {
     "name": "stdout",
     "output_type": "stream",
     "text": [
      "Chocolate Chip 1.2 8\n"
     ]
    }
   ],
   "source": [
    "print(chocolate_chip.name, chocolate_chip.cost, chocolate_chip.quantity)"
   ]
  },
  {
   "cell_type": "code",
   "execution_count": 20,
   "id": "4801ab6e-b881-474c-8fa7-b7a0af5bd032",
   "metadata": {},
   "outputs": [
    {
     "name": "stdout",
     "output_type": "stream",
     "text": [
      "9.6\n"
     ]
    }
   ],
   "source": [
    "print(chocolate_chip.value_of_goods)"
   ]
  },
  {
   "cell_type": "code",
   "execution_count": 46,
   "id": "7cc220c0-c2b6-4189-8d4b-11ba631a1d05",
   "metadata": {},
   "outputs": [],
   "source": [
    "# # ONEBIKE DATA WRITER\n",
    "# import csv\n",
    "\n",
    "# with open('onebike_rentals_timing.csv', 'w', newline='') as csvfile:\n",
    "#     fieldnames = ['start', 'end']\n",
    "#     writer = csv.DictWriter(csvfile, fieldnames=fieldnames)\n",
    "\n",
    "#     writer.writeheader()\n",
    "#     for trip in onebike_datetimes:\n",
    "#         writer.writerow({'start': trip['start'], 'end': trip['end']})"
   ]
  },
  {
   "cell_type": "code",
   "execution_count": 42,
   "id": "0aacb4fa-100b-4c88-946d-b034bdd45afa",
   "metadata": {},
   "outputs": [],
   "source": [
    "# ONEBIKE DATA READER\n",
    "import csv\n",
    "from datetime import datetime\n",
    "\n",
    "onebike_datetimes = []\n",
    "\n",
    "with open('onebike_rentals_timing.csv', 'r', newline='') as csvfile:\n",
    "    fieldnames = ['start', 'end']\n",
    "    reader = csv.DictReader(csvfile, fieldnames=fieldnames)\n",
    "    row = next(reader)\n",
    "    for index, row in enumerate(reader):\n",
    "        #print(row['start'], row['end'])\n",
    "        trip = {\n",
    "            'start': datetime.strptime(row['start'], \"%Y-%m-%d %H:%M:%S\"),\n",
    "            'end'  : datetime.strptime(row['end']  , \"%Y-%m-%d %H:%M:%S\")\n",
    "        }\n",
    "        onebike_datetimes.append(trip)"
   ]
  },
  {
   "cell_type": "code",
   "execution_count": 47,
   "id": "a2f4b975-0fba-4779-b821-eee50a68b833",
   "metadata": {},
   "outputs": [
    {
     "data": {
      "text/plain": [
       "{'start': datetime.datetime(2017, 10, 1, 15, 23, 25),\n",
       " 'end': datetime.datetime(2017, 10, 1, 15, 26, 26)}"
      ]
     },
     "execution_count": 47,
     "metadata": {},
     "output_type": "execute_result"
    }
   ],
   "source": [
    "onebike_datetimes[0]"
   ]
  },
  {
   "cell_type": "code",
   "execution_count": 48,
   "id": "69642361-ed7f-4084-86a8-7a50607095d2",
   "metadata": {},
   "outputs": [],
   "source": [
    "copy_onebike_datetimes = onebike_datetimes[:]"
   ]
  },
  {
   "cell_type": "code",
   "execution_count": null,
   "id": "f22bd98b-7cea-4ca2-a722-8f6148d1fd37",
   "metadata": {},
   "outputs": [],
   "source": []
  },
  {
   "cell_type": "code",
   "execution_count": 50,
   "id": "a5750b9f-2e03-474c-af98-cf91ca2c42a8",
   "metadata": {},
   "outputs": [
    {
     "name": "stdout",
     "output_type": "stream",
     "text": [
      "From 2017-10-01 15:23:25-04:00 to 2017-10-01 15:26:26-04:00\n",
      "From 2017-10-01 15:42:57-04:00 to 2017-10-01 17:49:59-04:00\n",
      "From 2017-10-02 06:37:10-04:00 to 2017-10-02 06:42:53-04:00\n",
      "From 2017-10-02 08:56:45-04:00 to 2017-10-02 09:18:03-04:00\n",
      "From 2017-10-02 18:23:00-04:00 to 2017-10-02 18:45:05-04:00\n",
      "From 2017-10-02 18:48:08-04:00 to 2017-10-02 19:10:54-04:00\n",
      "From 2017-10-02 19:18:10-04:00 to 2017-10-02 19:31:45-04:00\n",
      "From 2017-10-02 19:37:32-04:00 to 2017-10-02 19:46:37-04:00\n",
      "From 2017-10-03 08:24:16-04:00 to 2017-10-03 08:32:27-04:00\n",
      "From 2017-10-03 18:17:07-04:00 to 2017-10-03 18:27:46-04:00\n",
      "--------------------------------------------------------------------------------\n",
      "From 2017-10-01 15:23:25+06:00 to 2017-10-01 15:26:26+06:00\n",
      "From 2017-10-01 15:42:57+06:00 to 2017-10-01 17:49:59+06:00\n",
      "From 2017-10-02 06:37:10+06:00 to 2017-10-02 06:42:53+06:00\n",
      "From 2017-10-02 08:56:45+06:00 to 2017-10-02 09:18:03+06:00\n",
      "From 2017-10-02 18:23:00+06:00 to 2017-10-02 18:45:05+06:00\n",
      "From 2017-10-02 18:48:08+06:00 to 2017-10-02 19:10:54+06:00\n",
      "From 2017-10-02 19:18:10+06:00 to 2017-10-02 19:31:45+06:00\n",
      "From 2017-10-02 19:37:32+06:00 to 2017-10-02 19:46:37+06:00\n",
      "From 2017-10-03 08:24:16+06:00 to 2017-10-03 08:32:27+06:00\n",
      "From 2017-10-03 18:17:07+06:00 to 2017-10-03 18:27:46+06:00\n"
     ]
    }
   ],
   "source": [
    "# BIKE\n",
    "\n",
    "# Import tz\n",
    "from dateutil import tz\n",
    "\n",
    "def printinfo(alist_datetimes):\n",
    "  for trip in alist_datetimes:\n",
    "    print(f\"From {trip['start']} to {trip['end']}\")\n",
    "\n",
    "# Create a timezone object for Eastern Time\n",
    "et = tz.gettz('Asia/Dhaka')\n",
    "\n",
    "printinfo(onebike_datetimes[:10])\n",
    "\n",
    "# Loop over trips, updating the datetimes to be in Eastern Time\n",
    "for trip in onebike_datetimes[:10]:\n",
    "  # Update trip['start'] and trip['end']\n",
    "  trip['start'] = trip['start'].replace(tzinfo=et)\n",
    "  trip['end'] = trip['end'].replace(tzinfo=et)\n",
    "\n",
    "print('-'*80)\n",
    "printinfo(onebike_datetimes[:10])\n"
   ]
  },
  {
   "cell_type": "code",
   "execution_count": 26,
   "id": "f5333b94-6880-466b-a172-9a0672ab93b3",
   "metadata": {},
   "outputs": [],
   "source": [
    "# Testing CSV Writer\n",
    "import csv\n",
    "\n",
    "with open('names.csv', 'w', newline='') as csvfile:\n",
    "    fieldnames = ['first_name', 'last_name']\n",
    "    writer = csv.DictWriter(csvfile, fieldnames=fieldnames)\n",
    "\n",
    "    writer.writeheader()\n",
    "    writer.writerow({'first_name': 'Baked', 'last_name': 'Beans'})\n",
    "    writer.writerow({'first_name': 'Lovely', 'last_name': 'Spam'})\n",
    "    writer.writerow({'first_name': 'Wonderful', 'last_name': 'Spam'})"
   ]
  },
  {
   "cell_type": "code",
   "execution_count": null,
   "id": "823ea24a-3955-4f08-8c78-f6793ec53543",
   "metadata": {},
   "outputs": [],
   "source": []
  },
  {
   "cell_type": "code",
   "execution_count": 27,
   "id": "57b7e33a-2462-4a6c-874c-aa2cfdf781cb",
   "metadata": {},
   "outputs": [
    {
     "name": "stdout",
     "output_type": "stream",
     "text": [
      "Baked Beans\n",
      "Lovely Spam\n",
      "Wonderful Spam\n"
     ]
    }
   ],
   "source": [
    "import csv\n",
    "with open('names.csv', newline='') as csvfile:\n",
    "    reader = csv.DictReader(csvfile)\n",
    "    for row in reader:\n",
    "        print(row['first_name'], row['last_name'])"
   ]
  },
  {
   "cell_type": "code",
   "execution_count": 39,
   "id": "a1ab52b6-ba0c-43b9-aeba-4abda087432b",
   "metadata": {},
   "outputs": [],
   "source": [
    "a = {'hello': len('hello')}"
   ]
  },
  {
   "cell_type": "code",
   "execution_count": 40,
   "id": "94a16998-df5a-485d-97ed-7d7926fa0165",
   "metadata": {},
   "outputs": [
    {
     "data": {
      "text/plain": [
       "{'hello': 5}"
      ]
     },
     "execution_count": 40,
     "metadata": {},
     "output_type": "execute_result"
    }
   ],
   "source": [
    "a"
   ]
  },
  {
   "cell_type": "code",
   "execution_count": 53,
   "id": "eafff3bf-e721-4053-b2d4-2a03e44eabb2",
   "metadata": {},
   "outputs": [
    {
     "name": "stdout",
     "output_type": "stream",
     "text": [
      "31-12-2017\n",
      "False\n",
      "True\n",
      "True\n"
     ]
    }
   ],
   "source": [
    "from datetime import datetime, timedelta\n",
    "\n",
    "def format_date(timestamp, datetime_format):\n",
    "    \" From Unix timestamp value to datetime object then convert to formatted string \"\n",
    "    dt = datetime.fromtimestamp(timestamp)\n",
    "    formatted_date = dt.strftime(datetime_format)\n",
    "    \n",
    "    return formatted_date\n",
    "\n",
    "def calculate_landing_time(rocket_launch_dt, travel_duration):\n",
    "    \" Find the landing time by adding the travel duration (int val) to rocket launch date \"\n",
    "    travel_duration = timedelta(days=travel_duration)\n",
    "    landing_time = rocket_launch_dt + travel_duration\n",
    "    formatted_landing_time = landing_time.strftime('%d-%m-%Y')\n",
    "    return formatted_landing_time\n",
    "    \n",
    "def days_until_delivery(expected_delivery_dt, current_dt):\n",
    "    \" Find the difference between current date and expected delivery date \"\n",
    "    remaining_number_of_days = expected_delivery_dt - current_dt\n",
    "    return remaining_number_of_days.days\n",
    "\n",
    "print(format_date(1514665153, \"%d-%m-%Y\"))    \n",
    "print(format_date(1514665153, \"%d-%m-%Y\") == \"30-12-2017\")\n",
    "print(calculate_landing_time(datetime(2023, 2, 15), 20) == \"07-03-2023\")\n",
    "print(days_until_delivery(datetime(2023, 2, 15), datetime(2023, 2, 5)) == 10)"
   ]
  },
  {
   "cell_type": "code",
   "execution_count": 54,
   "id": "7aafc8e6-72d8-406e-9afa-79b5214da433",
   "metadata": {},
   "outputs": [
    {
     "name": "stdout",
     "output_type": "stream",
     "text": [
      "25 125\n"
     ]
    }
   ],
   "source": [
    "# Nested Function\n",
    "def raised_val(n):\n",
    "    def inner(x):\n",
    "        return x ** n\n",
    "    return inner\n",
    "\n",
    "square = raised_val(2)\n",
    "cube = raised_val(3)\n",
    "print(square(5), cube(5))"
   ]
  },
  {
   "cell_type": "code",
   "execution_count": null,
   "id": "e1794437-19fc-497f-a882-23adb4554a1f",
   "metadata": {},
   "outputs": [],
   "source": [
    "# Passing by argumnet. The defualt is immutable value.\n",
    "# Use an immutable variable for the default argument\n",
    "def better_add_column(values, df=None):\n",
    "    \"\"\"\n",
    "    Add a column of `values` to a DataFrame `df`.\n",
    "    The column will be named \"col_<n>\" where \"n\" is\n",
    "    the numerical index of the column.\n",
    "    \n",
    "    Args:\n",
    "        values (iterable): The values of the new column\n",
    "        df (DataFrame, optional): The DataFrame to update.\n",
    "          If no DataFrame is passed, one is created by default.\n",
    "        \n",
    "    Returns:\n",
    "        DataFrame\n",
    "    \"\"\"\n",
    "    # Update the function to create a default DataFrame\n",
    "    if df is None:\n",
    "        df = pandas.DataFrame()\n",
    "        df['col_{}'.format(len(df.columns))] = values\n",
    "    return df\n",
    "    \n",
    "\n",
    "df = better_add_column(range(1, 6))\n",
    "print(df)\n",
    "\n",
    "better_add_column([i**4 for i in range(1, 6)], df)\n",
    "print(df)"
   ]
  },
  {
   "cell_type": "code",
   "execution_count": 58,
   "id": "c12cbee0-abd6-41e4-8c1a-4f6fb342939e",
   "metadata": {},
   "outputs": [
    {
     "name": "stdout",
     "output_type": "stream",
     "text": [
      "This should take approximately 0.25 seconds\n",
      "Elapsed: 0.26s\n"
     ]
    }
   ],
   "source": [
    "# Add a decorator that will make timer() a context manager\n",
    "import contextlib\n",
    "import time\n",
    "\n",
    "@contextlib.contextmanager\n",
    "def timer():\n",
    "    \"\"\"Time the execution of a context block.\n",
    "    \n",
    "    Yields:\n",
    "        None\n",
    "    \"\"\"\n",
    "    start = time.time()\n",
    "    # Send control back to the context block\n",
    "    yield\n",
    "    end = time.time()\n",
    "    print('Elapsed: {:.2f}s'.format(end - start))\n",
    "    \n",
    "with timer():\n",
    "    print('This should take approximately 0.25 seconds')\n",
    "    time.sleep(0.25)"
   ]
  },
  {
   "cell_type": "code",
   "execution_count": null,
   "id": "606b4e20-12b4-4aaf-88a3-9ca544c4eb8a",
   "metadata": {},
   "outputs": [],
   "source": [
    "import contextlib\n",
    "\n",
    "@contextlib.contextmanager\n",
    "def database(url):\n",
    "    # db = open db\n",
    "    try:\n",
    "        # yield db\n",
    "        pass\n",
    "    finally:\n",
    "        pass\n",
    "        # close DB\n",
    "\n",
    "with database('url') as db:\n",
    "    # do your operation"
   ]
  },
  {
   "cell_type": "code",
   "execution_count": 57,
   "id": "a442f310-b1af-4900-8cc6-2be7d8b9d28d",
   "metadata": {},
   "outputs": [
    {
     "name": "stdout",
     "output_type": "stream",
     "text": [
      "first_name,last_name\n",
      "Baked,Beans\n",
      "Lovely,Spam\n",
      "Wonderful,Spam\n",
      "\n"
     ]
    }
   ],
   "source": [
    "import contextlib\n",
    "@contextlib.contextmanager\n",
    "def open_read_only(filename):\n",
    "    \"\"\"Open a file in read-only mode.\n",
    "\n",
    "    Args:\n",
    "    filename (str): The location of the file to read\n",
    "    \n",
    "    Yields:\n",
    "    file object\n",
    "    \"\"\"\n",
    "    read_only_file = open(filename, mode='r')\n",
    "  \n",
    "    # Yield read_only_file so it can be assigned to my_file\n",
    "    try:\n",
    "        yield read_only_file\n",
    "    finally:\n",
    "        # Close read_only_file\n",
    "        read_only_file.close()\n",
    "\n",
    "with open_read_only('names.csv') as my_file:\n",
    "    print(my_file.read())"
   ]
  },
  {
   "cell_type": "code",
   "execution_count": 59,
   "id": "5982af4b-b8e8-4833-8602-4c868df2dba7",
   "metadata": {},
   "outputs": [
    {
     "name": "stdout",
     "output_type": "stream",
     "text": [
      "False\n",
      "True\n"
     ]
    }
   ],
   "source": [
    "def hasdocstring(func):\n",
    "    return func.__doc__ is not None\n",
    "\n",
    "def no(x):\n",
    "    print(x)\n",
    "    return x\n",
    "\n",
    "def yes(x):\n",
    "    ''' This is yes function. It has docstring ... '''\n",
    "    print(x)\n",
    "    return x\n",
    "\n",
    "print(hasdocstring(no))\n",
    "print(hasdocstring(yes))\n"
   ]
  },
  {
   "cell_type": "code",
   "execution_count": 60,
   "id": "be6d8bfc-0fe3-4303-ac5c-4ad8377f0f77",
   "metadata": {},
   "outputs": [
    {
     "name": "stdout",
     "output_type": "stream",
     "text": [
      "Good morning. Today is June 21, 2025. It's 12:22 ... time to work!\n"
     ]
    }
   ],
   "source": [
    "# Import datetime \n",
    "from datetime import datetime\n",
    "\n",
    "# Assign date to get_date\n",
    "get_date = datetime.now()\n",
    "\n",
    "# Add named placeholders with format specifiers\n",
    "message = \"Good morning. Today is {today:%B %d, %Y}. It's {today:%H:%M} ... time to work!\"\n",
    "\n",
    "# Use the format method replacing the placeholder with get_date\n",
    "print(message.format(today=get_date))"
   ]
  },
  {
   "cell_type": "code",
   "execution_count": 64,
   "id": "56f8ad33-48ba-43b8-a25c-7945b6ab7a90",
   "metadata": {},
   "outputs": [
    {
     "name": "stdout",
     "output_type": "stream",
     "text": [
      "Learn Python\n",
      "Learn 'Python'\n",
      "Learn 'Python'\n"
     ]
    }
   ],
   "source": [
    "name = 'Python'\n",
    "print(f'Learn {name!s}')\n",
    "print(f'Learn {name!r}')\n",
    "print(f'Learn {name!a}')"
   ]
  },
  {
   "cell_type": "code",
   "execution_count": 72,
   "id": "9cd9ef25-855d-4e2b-a598-70db6f2fdeef",
   "metadata": {},
   "outputs": [
    {
     "name": "stdout",
     "output_type": "stream",
     "text": [
      "Is you dad called 'Ash'?\n",
      "Is you dad called 'Ash'?\n"
     ]
    }
   ],
   "source": [
    "# String formatting\n",
    "family = {'dad': 'Ash', 'mom': 'Shoma'}\n",
    "print(f\"Is you dad called {family['dad']!a}?\")\n",
    "print(\"Is you dad called {f[dad]!a}?\".format(f=family))"
   ]
  },
  {
   "cell_type": "code",
   "execution_count": 74,
   "id": "18bc44e5-5171-4796-83d3-3db9153275a7",
   "metadata": {},
   "outputs": [
    {
     "name": "stdout",
     "output_type": "stream",
     "text": [
      "Data science is considered 'coolest' in the 21st century\n"
     ]
    }
   ],
   "source": [
    "field1 = 'coolest'\n",
    "fact1 = 21\n",
    "print(f\"Data science is considered {field1!a} in the {fact1:d}st century\")"
   ]
  },
  {
   "cell_type": "code",
   "execution_count": 82,
   "id": "dd422a4a-c6cb-41f5-946e-9c3bbf33eacb",
   "metadata": {},
   "outputs": [
    {
     "name": "stdout",
     "output_type": "stream",
     "text": [
      "<re.Match object; span=(0, 2), match='10'>\n",
      "<re.Match object; span=(0, 2), match='10'>\n",
      "['10', '30']\n"
     ]
    }
   ],
   "source": [
    "import re\n",
    "print(re.search(r'\\d+', '10 You have 30 books.'))\n",
    "print(re.match(r'\\d+', '10 You have 30 books.'))\n",
    "print(re.findall(r'\\d+', '10 you have 30 books.'))"
   ]
  },
  {
   "cell_type": "code",
   "execution_count": 79,
   "id": "c7e48493-02e1-48c8-ad74-616fdd096494",
   "metadata": {},
   "outputs": [
    {
     "name": "stdout",
     "output_type": "stream",
     "text": [
      "Help on function match in module re:\n",
      "\n",
      "match(pattern, string, flags=0)\n",
      "    Try to apply the pattern at the start of the string, returning\n",
      "    a Match object, or None if no match was found.\n",
      "\n"
     ]
    }
   ],
   "source": [
    "help(re.match)"
   ]
  },
  {
   "cell_type": "code",
   "execution_count": 83,
   "id": "fc463d78-14fe-41a3-8f4b-b166677c3b82",
   "metadata": {},
   "outputs": [
    {
     "name": "stdout",
     "output_type": "stream",
     "text": [
      "Positive comments found [('love', 'concert', 'The Book of Souls World Tour')]\n",
      "Positive comments found [('enjoy', 'movie', 'Wreck-It Ralph')]\n",
      "Positive comments found [('like', 'movie', 'Wish Upon a Star')]\n"
     ]
    }
   ],
   "source": [
    "import re\n",
    "\n",
    "sentiment_analysis = ['I totally love the concert The Book of Souls World Tour. It kinda amazing!', \n",
    "                      'I enjoy the movie Wreck-It Ralph. I watched with my boyfriend.', \n",
    "                      \"I still like the movie Wish Upon a Star. Too bad Disney doesn't show it anymore.\"]\n",
    "\n",
    "# Write a regex that matches sentences with the optional words\n",
    "regex_positive = r\"(love|like|enjoy).+?(movie|concert)\\s(.+?)\\.\"\n",
    "\n",
    "for tweet in sentiment_analysis:\n",
    "\t# Find all matches of regex in tweet\n",
    "    # positive_matches = re.____(____, ____)\n",
    "    positive_matches = re.findall(regex_positive, tweet)\n",
    "    \n",
    "    # Complete format to print out the results\n",
    "    print(\"Positive comments found {}\".format(positive_matches))"
   ]
  },
  {
   "cell_type": "code",
   "execution_count": 84,
   "id": "eed9b4f2-bd1a-4448-97b8-52c7278eaafa",
   "metadata": {},
   "outputs": [
    {
     "name": "stdout",
     "output_type": "stream",
     "text": [
      "Negative comments found [('dislike', 'The cabin and the ant')]\n",
      "Negative comments found [('disapprove', 'Honest with you')]\n",
      "Negative comments found [('dislike', 'After twelve Tour')]\n"
     ]
    }
   ],
   "source": [
    "import re\n",
    "\n",
    "sentiment_analysis = ['That was horrible! I really dislike the movie The cabin and the ant. So boring.', \n",
    "                      \"I disapprove the movie Honest with you. It's full of cliches.\", \n",
    "                      'I dislike very much the concert After twelve Tour. The sound was horrible.']\n",
    "\n",
    "# Write a regex that matches sentences with the optional words\n",
    "regex_negative = r\"(hate|dislike|disapprove).+?(?:movie|concert)\\s(.+?)\\.\"\n",
    "\n",
    "for tweet in sentiment_analysis:\n",
    "\t# Find all matches of regex in tweet\n",
    "    # negative_matches = re.____(____, ____)\n",
    "    negative_matches = re.findall(regex_negative, tweet)\n",
    "    \n",
    "    # Complete format to print out the results\n",
    "    print(\"Negative comments found {}\".format(negative_matches))"
   ]
  },
  {
   "cell_type": "code",
   "execution_count": 90,
   "id": "d6033f19-962f-410f-9637-a94207c09c22",
   "metadata": {},
   "outputs": [
    {
     "name": "stdout",
     "output_type": "stream",
     "text": [
      "12\n",
      "<re.Match object; span=(19, 29), match='12-02-3030'>\n"
     ]
    }
   ],
   "source": [
    "import re\n",
    "text = 'hi this is a date: 12-02-3030 in future'\n",
    "regex = r\"(\\d{1,2})-(\\d{2})-(\\d{4})\"\n",
    "\n",
    "found = re.search(regex, text)\n",
    "print(found.group(1))\n",
    "print(found)"
   ]
  },
  {
   "cell_type": "code",
   "execution_count": 91,
   "id": "1ed90b6b-0784-477d-8e79-68cb5415525a",
   "metadata": {},
   "outputs": [
    {
     "data": {
      "text/plain": [
       "['__class__',\n",
       " '__class_getitem__',\n",
       " '__copy__',\n",
       " '__deepcopy__',\n",
       " '__delattr__',\n",
       " '__dir__',\n",
       " '__doc__',\n",
       " '__eq__',\n",
       " '__format__',\n",
       " '__ge__',\n",
       " '__getattribute__',\n",
       " '__getitem__',\n",
       " '__getstate__',\n",
       " '__gt__',\n",
       " '__hash__',\n",
       " '__init__',\n",
       " '__init_subclass__',\n",
       " '__le__',\n",
       " '__lt__',\n",
       " '__module__',\n",
       " '__ne__',\n",
       " '__new__',\n",
       " '__reduce__',\n",
       " '__reduce_ex__',\n",
       " '__repr__',\n",
       " '__setattr__',\n",
       " '__sizeof__',\n",
       " '__str__',\n",
       " '__subclasshook__',\n",
       " 'end',\n",
       " 'endpos',\n",
       " 'expand',\n",
       " 'group',\n",
       " 'groupdict',\n",
       " 'groups',\n",
       " 'lastgroup',\n",
       " 'lastindex',\n",
       " 'pos',\n",
       " 're',\n",
       " 'regs',\n",
       " 'span',\n",
       " 'start',\n",
       " 'string']"
      ]
     },
     "execution_count": 91,
     "metadata": {},
     "output_type": "execute_result"
    }
   ],
   "source": [
    "dir(found)"
   ]
  },
  {
   "cell_type": "code",
   "execution_count": 92,
   "id": "d97bcde0-59d1-42f1-b473-3c7779c81739",
   "metadata": {},
   "outputs": [
    {
     "data": {
      "text/plain": [
       "('12', '02', '3030')"
      ]
     },
     "execution_count": 92,
     "metadata": {},
     "output_type": "execute_result"
    }
   ],
   "source": [
    "found.groups()"
   ]
  },
  {
   "cell_type": "code",
   "execution_count": 95,
   "id": "30645ce2-130d-445e-b9c3-14a45883e631",
   "metadata": {},
   "outputs": [
    {
     "data": {
      "text/plain": [
       "re.Match"
      ]
     },
     "execution_count": 95,
     "metadata": {},
     "output_type": "execute_result"
    }
   ],
   "source": [
    "type(found)"
   ]
  },
  {
   "cell_type": "code",
   "execution_count": 103,
   "id": "986107dd-9b26-4a9e-a69f-358cad8c6f9c",
   "metadata": {},
   "outputs": [
    {
     "name": "stdout",
     "output_type": "stream",
     "text": [
      "<class 're.Match'>\n",
      "<re.Match object; span=(0, 29), match='hi this is a date: 12-02-3030'>\n"
     ]
    }
   ],
   "source": [
    "regex1 = r\".+?(\\d{1,2})-(\\d{2})-(\\d{4})\"\n",
    "foundmatch = re.match(regex1, text)\n",
    "print(type(foundmatch))\n",
    "print(foundmatch)"
   ]
  },
  {
   "cell_type": "code",
   "execution_count": 104,
   "id": "4d9f0f4b-b4e5-485e-a10e-cdbfa048f0be",
   "metadata": {},
   "outputs": [
    {
     "name": "stdout",
     "output_type": "stream",
     "text": [
      "('12', '02', '3030')\n"
     ]
    }
   ],
   "source": [
    "print(foundmatch.groups())"
   ]
  },
  {
   "cell_type": "code",
   "execution_count": 105,
   "id": "c3ed3805-9159-4bca-81b1-df73b52d86e7",
   "metadata": {},
   "outputs": [
    {
     "data": {
      "text/plain": [
       "'hi this is a date: 12-02-3030'"
      ]
     },
     "execution_count": 105,
     "metadata": {},
     "output_type": "execute_result"
    }
   ],
   "source": [
    "foundmatch.group(0)"
   ]
  },
  {
   "cell_type": "code",
   "execution_count": 109,
   "id": "2476f846-f68a-436d-a501-17becd949b23",
   "metadata": {},
   "outputs": [
    {
     "name": "stdout",
     "output_type": "stream",
     "text": [
      "('234',) 234 with 234 234\n"
     ]
    }
   ],
   "source": [
    "import re\n",
    "text = 'Mach 234 with 234'\n",
    "regex = r'(?P<num>\\d{3}).*(?P=num)'\n",
    "found = re.search(regex, text)\n",
    "print(found.groups(), found.group(0), found.group(1))"
   ]
  },
  {
   "cell_type": "code",
   "execution_count": null,
   "id": "9063c344-bc7a-4eeb-9b7d-c35c5c4d53bd",
   "metadata": {},
   "outputs": [],
   "source": [
    "# regex_dates = r\"Signed\\son\\s(?P<month>\\d{2})/(?P<day>\\d{2})/(?P<year>\\d{4})\"\n",
    "regex_dates = r\"Signed\\son\\s(\\d{2})/(\\d{2})/(\\d{4})\"\n"
   ]
  },
  {
   "cell_type": "code",
   "execution_count": 111,
   "id": "81f25565-f85e-42d2-bd8c-a3a2cbd7d513",
   "metadata": {},
   "outputs": [
    {
     "name": "stdout",
     "output_type": "stream",
     "text": [
      "Your tag body is closed\n",
      "Your tag article is closed\n",
      "Close your nav tag!\n"
     ]
    }
   ],
   "source": [
    "import re\n",
    "\n",
    "html_tags = ['<body>Welcome to our course! It would be an awesome experience</body>', \n",
    "             '<article>To be a data scientist, you need to have knowledge in statistics and mathematics</article>', \n",
    "             '<nav>About me Links Contact me!']\n",
    "\n",
    "for string in html_tags:\n",
    "    # Complete the regex and find if it matches a closed HTML tags\n",
    "    match_tag =  re.match(r\"<(\\w+)>.*?</\\1>\", string)\n",
    " \n",
    "    if match_tag:\n",
    "        # If it matches print the first group capture\n",
    "        print(\"Your tag {} is closed\".format(match_tag.group(1))) \n",
    "    else:\n",
    "        # If it doesn't match capture only the tag \n",
    "        notmatch_tag = re.match(r\"<(\\w+)>\", string)\n",
    "        # Print the first group capture\n",
    "        print(\"Close your {} tag!\".format(notmatch_tag.group(1)))"
   ]
  },
  {
   "cell_type": "code",
   "execution_count": 114,
   "id": "fa194df8-3b3c-4004-8e8b-6ad95a1b427a",
   "metadata": {},
   "outputs": [
    {
     "name": "stdout",
     "output_type": "stream",
     "text": [
      "<class 'list'>\n",
      "['action.txt', 'animation.txt']\n",
      "<class 'list'>\n",
      "['character.txt']\n"
     ]
    }
   ],
   "source": [
    "# Look ahead\n",
    "text = 'action.txt transferred animation.txt transferred character.txt error'\n",
    "\n",
    "import re\n",
    "regex_lookahead_positive = r'\\w+\\.txt(?=\\stransferred)'\n",
    "found = re.findall(regex_lookahead_positive, text)\n",
    "print(type(found))\n",
    "print(found)\n",
    "\n",
    "regex_lookahead_negative = r'\\w+\\.txt(?!\\stransferred)'\n",
    "found = re.findall(regex_lookahead_negative, text)\n",
    "print(type(found))\n",
    "print(found)\n"
   ]
  },
  {
   "cell_type": "code",
   "execution_count": null,
   "id": "fbe74057-9fb9-46cc-8fb0-d1fccfb2de39",
   "metadata": {},
   "outputs": [],
   "source": [
    "# Look behind"
   ]
  }
 ],
 "metadata": {
  "kernelspec": {
   "display_name": "Python 3 (ipykernel)",
   "language": "python",
   "name": "python3"
  },
  "language_info": {
   "codemirror_mode": {
    "name": "ipython",
    "version": 3
   },
   "file_extension": ".py",
   "mimetype": "text/x-python",
   "name": "python",
   "nbconvert_exporter": "python",
   "pygments_lexer": "ipython3",
   "version": "3.12.1"
  }
 },
 "nbformat": 4,
 "nbformat_minor": 5
}
